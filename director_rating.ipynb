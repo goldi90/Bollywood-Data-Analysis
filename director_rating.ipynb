{
 "cells": [
  {
   "cell_type": "code",
   "execution_count": 1,
   "id": "5d42aab4",
   "metadata": {},
   "outputs": [],
   "source": [
    "import numpy as np\n",
    "import pandas as pd\n",
    "import matplotlib.pyplot as plt"
   ]
  },
  {
   "cell_type": "code",
   "execution_count": 2,
   "id": "636a9b08",
   "metadata": {},
   "outputs": [],
   "source": [
    "df=pd.read_csv(\"BollywoodDirectorRanking.csv\")"
   ]
  },
  {
   "cell_type": "code",
   "execution_count": 3,
   "id": "2f6b5dcd",
   "metadata": {},
   "outputs": [
    {
     "data": {
      "text/html": [
       "<div>\n",
       "<style scoped>\n",
       "    .dataframe tbody tr th:only-of-type {\n",
       "        vertical-align: middle;\n",
       "    }\n",
       "\n",
       "    .dataframe tbody tr th {\n",
       "        vertical-align: top;\n",
       "    }\n",
       "\n",
       "    .dataframe thead th {\n",
       "        text-align: right;\n",
       "    }\n",
       "</style>\n",
       "<table border=\"1\" class=\"dataframe\">\n",
       "  <thead>\n",
       "    <tr style=\"text-align: right;\">\n",
       "      <th></th>\n",
       "      <th>directorId</th>\n",
       "      <th>movieCount</th>\n",
       "      <th>ratingSum</th>\n",
       "      <th>normalizedMovieRank</th>\n",
       "      <th>googleHits</th>\n",
       "      <th>normalizedGoogleRank</th>\n",
       "      <th>normalizedRating</th>\n",
       "    </tr>\n",
       "  </thead>\n",
       "  <tbody>\n",
       "    <tr>\n",
       "      <th>count</th>\n",
       "      <td>118.000000</td>\n",
       "      <td>118.000000</td>\n",
       "      <td>118.00000</td>\n",
       "      <td>118.000000</td>\n",
       "      <td>1.180000e+02</td>\n",
       "      <td>118.000000</td>\n",
       "      <td>118.000000</td>\n",
       "    </tr>\n",
       "    <tr>\n",
       "      <th>mean</th>\n",
       "      <td>59.500000</td>\n",
       "      <td>4.957627</td>\n",
       "      <td>220.00000</td>\n",
       "      <td>2.601887</td>\n",
       "      <td>2.176836e+05</td>\n",
       "      <td>2.594890</td>\n",
       "      <td>2.874995</td>\n",
       "    </tr>\n",
       "    <tr>\n",
       "      <th>std</th>\n",
       "      <td>34.207699</td>\n",
       "      <td>2.799249</td>\n",
       "      <td>182.05381</td>\n",
       "      <td>1.588392</td>\n",
       "      <td>3.322251e+05</td>\n",
       "      <td>2.487982</td>\n",
       "      <td>1.779069</td>\n",
       "    </tr>\n",
       "    <tr>\n",
       "      <th>min</th>\n",
       "      <td>1.000000</td>\n",
       "      <td>3.000000</td>\n",
       "      <td>60.00000</td>\n",
       "      <td>1.000000</td>\n",
       "      <td>0.000000e+00</td>\n",
       "      <td>0.000000</td>\n",
       "      <td>1.000000</td>\n",
       "    </tr>\n",
       "    <tr>\n",
       "      <th>25%</th>\n",
       "      <td>30.250000</td>\n",
       "      <td>3.000000</td>\n",
       "      <td>92.50000</td>\n",
       "      <td>1.397560</td>\n",
       "      <td>1.117500e+04</td>\n",
       "      <td>1.074120</td>\n",
       "      <td>1.452045</td>\n",
       "    </tr>\n",
       "    <tr>\n",
       "      <th>50%</th>\n",
       "      <td>59.500000</td>\n",
       "      <td>4.000000</td>\n",
       "      <td>145.00000</td>\n",
       "      <td>2.350000</td>\n",
       "      <td>4.855000e+04</td>\n",
       "      <td>1.352400</td>\n",
       "      <td>2.483650</td>\n",
       "    </tr>\n",
       "    <tr>\n",
       "      <th>75%</th>\n",
       "      <td>88.750000</td>\n",
       "      <td>6.000000</td>\n",
       "      <td>270.00000</td>\n",
       "      <td>3.403948</td>\n",
       "      <td>2.687500e+05</td>\n",
       "      <td>2.991902</td>\n",
       "      <td>3.797115</td>\n",
       "    </tr>\n",
       "    <tr>\n",
       "      <th>max</th>\n",
       "      <td>118.000000</td>\n",
       "      <td>19.000000</td>\n",
       "      <td>1050.00000</td>\n",
       "      <td>10.000000</td>\n",
       "      <td>1.210000e+06</td>\n",
       "      <td>10.000000</td>\n",
       "      <td>10.000000</td>\n",
       "    </tr>\n",
       "  </tbody>\n",
       "</table>\n",
       "</div>"
      ],
      "text/plain": [
       "       directorId  movieCount   ratingSum  normalizedMovieRank    googleHits  \\\n",
       "count  118.000000  118.000000   118.00000           118.000000  1.180000e+02   \n",
       "mean    59.500000    4.957627   220.00000             2.601887  2.176836e+05   \n",
       "std     34.207699    2.799249   182.05381             1.588392  3.322251e+05   \n",
       "min      1.000000    3.000000    60.00000             1.000000  0.000000e+00   \n",
       "25%     30.250000    3.000000    92.50000             1.397560  1.117500e+04   \n",
       "50%     59.500000    4.000000   145.00000             2.350000  4.855000e+04   \n",
       "75%     88.750000    6.000000   270.00000             3.403948  2.687500e+05   \n",
       "max    118.000000   19.000000  1050.00000            10.000000  1.210000e+06   \n",
       "\n",
       "       normalizedGoogleRank  normalizedRating  \n",
       "count            118.000000        118.000000  \n",
       "mean               2.594890          2.874995  \n",
       "std                2.487982          1.779069  \n",
       "min                0.000000          1.000000  \n",
       "25%                1.074120          1.452045  \n",
       "50%                1.352400          2.483650  \n",
       "75%                2.991902          3.797115  \n",
       "max               10.000000         10.000000  "
      ]
     },
     "execution_count": 3,
     "metadata": {},
     "output_type": "execute_result"
    }
   ],
   "source": [
    "df.describe()"
   ]
  },
  {
   "cell_type": "code",
   "execution_count": 15,
   "id": "bff522f7",
   "metadata": {},
   "outputs": [
    {
     "name": "stdout",
     "output_type": "stream",
     "text": [
      "<class 'pandas.core.frame.DataFrame'>\n",
      "RangeIndex: 118 entries, 0 to 117\n",
      "Data columns (total 8 columns):\n",
      " #   Column                Non-Null Count  Dtype  \n",
      "---  ------                --------------  -----  \n",
      " 0   directorId            118 non-null    int64  \n",
      " 1   directorName          117 non-null    object \n",
      " 2   movieCount            118 non-null    int64  \n",
      " 3   ratingSum             118 non-null    int64  \n",
      " 4   normalizedMovieRank   118 non-null    float64\n",
      " 5   googleHits            118 non-null    int64  \n",
      " 6   normalizedGoogleRank  118 non-null    float64\n",
      " 7   normalizedRating      118 non-null    float64\n",
      "dtypes: float64(3), int64(4), object(1)\n",
      "memory usage: 7.0+ KB\n"
     ]
    }
   ],
   "source": [
    "df.info()"
   ]
  },
  {
   "cell_type": "code",
   "execution_count": 6,
   "id": "87f23317",
   "metadata": {},
   "outputs": [
    {
     "data": {
      "text/plain": [
       "{'whiskers': [<matplotlib.lines.Line2D at 0xb3aafe8>,\n",
       "  <matplotlib.lines.Line2D at 0xb3c71a8>],\n",
       " 'caps': [<matplotlib.lines.Line2D at 0xb3c7370>,\n",
       "  <matplotlib.lines.Line2D at 0xb3c7538>],\n",
       " 'boxes': [<matplotlib.lines.Line2D at 0xb3aadd8>],\n",
       " 'medians': [<matplotlib.lines.Line2D at 0xb3c7700>],\n",
       " 'fliers': [<matplotlib.lines.Line2D at 0xb3c78c8>],\n",
       " 'means': []}"
      ]
     },
     "execution_count": 6,
     "metadata": {},
     "output_type": "execute_result"
    },
    {
     "data": {
      "image/png": "[encoded data removed]",
      "text/plain": [
       "<Figure size 432x288 with 1 Axes>"
      ]
     },
     "metadata": {
      "needs_background": "light"
     },
     "output_type": "display_data"
    }
   ],
   "source": [
    "plt.boxplot(df[\"movieCount\"])"
   ]
  },
  {
   "cell_type": "markdown",
   "id": "9b17690b",
   "metadata": {},
   "source": [
    "IQR Of column movieCount IQR = Q3 – Q1."
   ]
  },
  {
   "cell_type": "code",
   "execution_count": 7,
   "id": "77c90273",
   "metadata": {},
   "outputs": [
    {
     "data": {
      "text/plain": [
       "3.0"
      ]
     },
     "execution_count": 7,
     "metadata": {},
     "output_type": "execute_result"
    }
   ],
   "source": [
    "iqrMovieCount=df[\"movieCount\"].quantile(0.75)-df[\"movieCount\"].quantile(0.25)\n",
    "iqrMovieCount"
   ]
  },
  {
   "cell_type": "raw",
   "id": "0ab00330",
   "metadata": {},
   "source": [
    "Lower bound  and Upper Bound Of column movieCount\n",
    "Lower Limit = Q1–1.5*IQR\n",
    "Upper Limit = Q3+1.5*IQR"
   ]
  },
  {
   "cell_type": "code",
   "execution_count": 8,
   "id": "39d74b61",
   "metadata": {},
   "outputs": [
    {
     "data": {
      "text/plain": [
       "-1.5"
      ]
     },
     "execution_count": 8,
     "metadata": {},
     "output_type": "execute_result"
    }
   ],
   "source": [
    "LowerLimitmovieCount=df[\"movieCount\"].quantile(0.25)-1.5*iqrMovieCount\n",
    "LowerLimitmovieCount"
   ]
  },
  {
   "cell_type": "code",
   "execution_count": 9,
   "id": "da378c4e",
   "metadata": {},
   "outputs": [
    {
     "data": {
      "text/plain": [
       "10.5"
      ]
     },
     "execution_count": 9,
     "metadata": {},
     "output_type": "execute_result"
    }
   ],
   "source": [
    "UpperLimitmovieCount=df[\"movieCount\"].quantile(0.75)+1.5*iqrMovieCount\n",
    "UpperLimitmovieCount"
   ]
  },
  {
   "cell_type": "code",
   "execution_count": 10,
   "id": "73b02e70",
   "metadata": {},
   "outputs": [
    {
     "data": {
      "text/html": [
       "<div>\n",
       "<style scoped>\n",
       "    .dataframe tbody tr th:only-of-type {\n",
       "        vertical-align: middle;\n",
       "    }\n",
       "\n",
       "    .dataframe tbody tr th {\n",
       "        vertical-align: top;\n",
       "    }\n",
       "\n",
       "    .dataframe thead th {\n",
       "        text-align: right;\n",
       "    }\n",
       "</style>\n",
       "<table border=\"1\" class=\"dataframe\">\n",
       "  <thead>\n",
       "    <tr style=\"text-align: right;\">\n",
       "      <th></th>\n",
       "      <th>directorId</th>\n",
       "      <th>directorName</th>\n",
       "      <th>movieCount</th>\n",
       "      <th>ratingSum</th>\n",
       "      <th>normalizedMovieRank</th>\n",
       "      <th>googleHits</th>\n",
       "      <th>normalizedGoogleRank</th>\n",
       "      <th>normalizedRating</th>\n",
       "    </tr>\n",
       "  </thead>\n",
       "  <tbody>\n",
       "    <tr>\n",
       "      <th>17</th>\n",
       "      <td>18</td>\n",
       "      <td>David Dhawan</td>\n",
       "      <td>11</td>\n",
       "      <td>670</td>\n",
       "      <td>3.90670</td>\n",
       "      <td>622000</td>\n",
       "      <td>5.62203</td>\n",
       "      <td>4.74079</td>\n",
       "    </tr>\n",
       "    <tr>\n",
       "      <th>28</th>\n",
       "      <td>29</td>\n",
       "      <td>Priyadarshan</td>\n",
       "      <td>19</td>\n",
       "      <td>1050</td>\n",
       "      <td>3.50554</td>\n",
       "      <td>277000</td>\n",
       "      <td>3.05333</td>\n",
       "      <td>3.84718</td>\n",
       "    </tr>\n",
       "    <tr>\n",
       "      <th>31</th>\n",
       "      <td>32</td>\n",
       "      <td>Ram Gopal Varma</td>\n",
       "      <td>17</td>\n",
       "      <td>680</td>\n",
       "      <td>2.42105</td>\n",
       "      <td>934000</td>\n",
       "      <td>7.94504</td>\n",
       "      <td>3.74350</td>\n",
       "    </tr>\n",
       "    <tr>\n",
       "      <th>46</th>\n",
       "      <td>47</td>\n",
       "      <td>Vikram Bhatt</td>\n",
       "      <td>16</td>\n",
       "      <td>640</td>\n",
       "      <td>2.42105</td>\n",
       "      <td>356000</td>\n",
       "      <td>3.64152</td>\n",
       "      <td>2.90282</td>\n",
       "    </tr>\n",
       "  </tbody>\n",
       "</table>\n",
       "</div>"
      ],
      "text/plain": [
       "    directorId     directorName  movieCount  ratingSum  normalizedMovieRank  \\\n",
       "17          18     David Dhawan          11        670              3.90670   \n",
       "28          29     Priyadarshan          19       1050              3.50554   \n",
       "31          32  Ram Gopal Varma          17        680              2.42105   \n",
       "46          47     Vikram Bhatt          16        640              2.42105   \n",
       "\n",
       "    googleHits  normalizedGoogleRank  normalizedRating  \n",
       "17      622000               5.62203           4.74079  \n",
       "28      277000               3.05333           3.84718  \n",
       "31      934000               7.94504           3.74350  \n",
       "46      356000               3.64152           2.90282  "
      ]
     },
     "execution_count": 10,
     "metadata": {},
     "output_type": "execute_result"
    }
   ],
   "source": [
    "df[df[\"movieCount\"]>UpperLimitmovieCount]"
   ]
  },
  {
   "cell_type": "code",
   "execution_count": 11,
   "id": "4599a1a7",
   "metadata": {},
   "outputs": [
    {
     "data": {
      "text/html": [
       "<div>\n",
       "<style scoped>\n",
       "    .dataframe tbody tr th:only-of-type {\n",
       "        vertical-align: middle;\n",
       "    }\n",
       "\n",
       "    .dataframe tbody tr th {\n",
       "        vertical-align: top;\n",
       "    }\n",
       "\n",
       "    .dataframe thead th {\n",
       "        text-align: right;\n",
       "    }\n",
       "</style>\n",
       "<table border=\"1\" class=\"dataframe\">\n",
       "  <thead>\n",
       "    <tr style=\"text-align: right;\">\n",
       "      <th></th>\n",
       "      <th>directorId</th>\n",
       "      <th>directorName</th>\n",
       "      <th>movieCount</th>\n",
       "      <th>ratingSum</th>\n",
       "      <th>normalizedMovieRank</th>\n",
       "      <th>googleHits</th>\n",
       "      <th>normalizedGoogleRank</th>\n",
       "      <th>normalizedRating</th>\n",
       "    </tr>\n",
       "  </thead>\n",
       "  <tbody>\n",
       "  </tbody>\n",
       "</table>\n",
       "</div>"
      ],
      "text/plain": [
       "Empty DataFrame\n",
       "Columns: [directorId, directorName, movieCount, ratingSum, normalizedMovieRank, googleHits, normalizedGoogleRank, normalizedRating]\n",
       "Index: []"
      ]
     },
     "execution_count": 11,
     "metadata": {},
     "output_type": "execute_result"
    }
   ],
   "source": [
    "df[df[\"movieCount\"]<LowerLimitmovieCount]"
   ]
  },
  {
   "cell_type": "code",
   "execution_count": 12,
   "id": "f93a6488",
   "metadata": {},
   "outputs": [
    {
     "data": {
      "text/html": [
       "<div>\n",
       "<style scoped>\n",
       "    .dataframe tbody tr th:only-of-type {\n",
       "        vertical-align: middle;\n",
       "    }\n",
       "\n",
       "    .dataframe tbody tr th {\n",
       "        vertical-align: top;\n",
       "    }\n",
       "\n",
       "    .dataframe thead th {\n",
       "        text-align: right;\n",
       "    }\n",
       "</style>\n",
       "<table border=\"1\" class=\"dataframe\">\n",
       "  <thead>\n",
       "    <tr style=\"text-align: right;\">\n",
       "      <th></th>\n",
       "      <th>directorId</th>\n",
       "      <th>directorName</th>\n",
       "      <th>movieCount</th>\n",
       "      <th>ratingSum</th>\n",
       "      <th>normalizedMovieRank</th>\n",
       "      <th>googleHits</th>\n",
       "      <th>normalizedGoogleRank</th>\n",
       "      <th>normalizedRating</th>\n",
       "    </tr>\n",
       "  </thead>\n",
       "  <tbody>\n",
       "    <tr>\n",
       "      <th>0</th>\n",
       "      <td>1</td>\n",
       "      <td>Rajkumar Hirani</td>\n",
       "      <td>3</td>\n",
       "      <td>440</td>\n",
       "      <td>10.00000</td>\n",
       "      <td>146000</td>\n",
       "      <td>2.07796</td>\n",
       "      <td>10.00000</td>\n",
       "    </tr>\n",
       "    <tr>\n",
       "      <th>1</th>\n",
       "      <td>2</td>\n",
       "      <td>Farah Khan</td>\n",
       "      <td>4</td>\n",
       "      <td>440</td>\n",
       "      <td>7.39474</td>\n",
       "      <td>1060000</td>\n",
       "      <td>8.88317</td>\n",
       "      <td>8.78473</td>\n",
       "    </tr>\n",
       "    <tr>\n",
       "      <th>2</th>\n",
       "      <td>3</td>\n",
       "      <td>Karan Johar</td>\n",
       "      <td>5</td>\n",
       "      <td>430</td>\n",
       "      <td>5.68947</td>\n",
       "      <td>1050000</td>\n",
       "      <td>8.80872</td>\n",
       "      <td>7.10460</td>\n",
       "    </tr>\n",
       "    <tr>\n",
       "      <th>3</th>\n",
       "      <td>4</td>\n",
       "      <td>Sajid Khan</td>\n",
       "      <td>4</td>\n",
       "      <td>350</td>\n",
       "      <td>5.79605</td>\n",
       "      <td>905000</td>\n",
       "      <td>7.72912</td>\n",
       "      <td>6.99780</td>\n",
       "    </tr>\n",
       "    <tr>\n",
       "      <th>4</th>\n",
       "      <td>5</td>\n",
       "      <td>Rohit Shetty</td>\n",
       "      <td>10</td>\n",
       "      <td>950</td>\n",
       "      <td>6.32895</td>\n",
       "      <td>437000</td>\n",
       "      <td>4.24461</td>\n",
       "      <td>6.83761</td>\n",
       "    </tr>\n",
       "  </tbody>\n",
       "</table>\n",
       "</div>"
      ],
      "text/plain": [
       "   directorId     directorName  movieCount  ratingSum  normalizedMovieRank  \\\n",
       "0           1  Rajkumar Hirani           3        440             10.00000   \n",
       "1           2       Farah Khan           4        440              7.39474   \n",
       "2           3      Karan Johar           5        430              5.68947   \n",
       "3           4       Sajid Khan           4        350              5.79605   \n",
       "4           5     Rohit Shetty          10        950              6.32895   \n",
       "\n",
       "   googleHits  normalizedGoogleRank  normalizedRating  \n",
       "0      146000               2.07796          10.00000  \n",
       "1     1060000               8.88317           8.78473  \n",
       "2     1050000               8.80872           7.10460  \n",
       "3      905000               7.72912           6.99780  \n",
       "4      437000               4.24461           6.83761  "
      ]
     },
     "execution_count": 12,
     "metadata": {},
     "output_type": "execute_result"
    }
   ],
   "source": [
    "Ndf=df[df[\"movieCount\"]<UpperLimitmovieCount]\n",
    "Ndf.head()"
   ]
  },
  {
   "cell_type": "code",
   "execution_count": 13,
   "id": "7712b649",
   "metadata": {},
   "outputs": [
    {
     "data": {
      "text/plain": [
       "{'whiskers': [<matplotlib.lines.Line2D at 0xd42beb0>,\n",
       "  <matplotlib.lines.Line2D at 0xd43a0a0>],\n",
       " 'caps': [<matplotlib.lines.Line2D at 0xd43a268>,\n",
       "  <matplotlib.lines.Line2D at 0xd43a430>],\n",
       " 'boxes': [<matplotlib.lines.Line2D at 0xd42bce8>],\n",
       " 'medians': [<matplotlib.lines.Line2D at 0xd43a5f8>],\n",
       " 'fliers': [<matplotlib.lines.Line2D at 0xd43a7c0>],\n",
       " 'means': []}"
      ]
     },
     "execution_count": 13,
     "metadata": {},
     "output_type": "execute_result"
    },
    {
     "data": {
      "image/png": "[encoded data removed]",
      "text/plain": [
       "<Figure size 432x288 with 1 Axes>"
      ]
     },
     "metadata": {
      "needs_background": "light"
     },
     "output_type": "display_data"
    }
   ],
   "source": [
    "plt.boxplot(Ndf[\"movieCount\"])"
   ]
  },
  {
   "cell_type": "code",
   "execution_count": null,
   "id": "610a28d0",
   "metadata": {},
   "outputs": [],
   "source": []
  }
 ],
 "metadata": {
  "kernelspec": {
   "display_name": "Python 3 (ipykernel)",
   "language": "python",
   "name": "python3"
  },
  "language_info": {
   "codemirror_mode": {
    "name": "ipython",
    "version": 3
   },
   "file_extension": ".py",
   "mimetype": "text/x-python",
   "name": "python",
   "nbconvert_exporter": "python",
   "pygments_lexer": "ipython3",
   "version": "3.9.6"
  }
 },
 "nbformat": 4,
 "nbformat_minor": 5
}
