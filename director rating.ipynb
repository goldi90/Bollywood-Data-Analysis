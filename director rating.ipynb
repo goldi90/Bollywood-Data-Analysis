{
 "cells": [
  {
   "cell_type": "code",
   "execution_count": 10,
   "id": "5d42aab4",
   "metadata": {},
   "outputs": [],
   "source": [
    "import numpy as np\n",
    "import pandas as pd\n",
    "import matplotlib.pyplot as plt\n",
    "import seaborn as sns"
   ]
  },
  {
   "cell_type": "code",
   "execution_count": 2,
   "id": "636a9b08",
   "metadata": {},
   "outputs": [],
   "source": [
    "df=pd.read_csv(\"BollywoodDirectorRanking.csv\")"
   ]
  },
  {
   "cell_type": "code",
   "execution_count": 54,
   "id": "3774fdc6",
   "metadata": {},
   "outputs": [
    {
     "data": {
      "text/html": [
       "<div>\n",
       "<style scoped>\n",
       "    .dataframe tbody tr th:only-of-type {\n",
       "        vertical-align: middle;\n",
       "    }\n",
       "\n",
       "    .dataframe tbody tr th {\n",
       "        vertical-align: top;\n",
       "    }\n",
       "\n",
       "    .dataframe thead th {\n",
       "        text-align: right;\n",
       "    }\n",
       "</style>\n",
       "<table border=\"1\" class=\"dataframe\">\n",
       "  <thead>\n",
       "    <tr style=\"text-align: right;\">\n",
       "      <th></th>\n",
       "      <th>directorId</th>\n",
       "      <th>directorName</th>\n",
       "      <th>movieCount</th>\n",
       "      <th>ratingSum</th>\n",
       "      <th>normalizedMovieRank</th>\n",
       "      <th>googleHits</th>\n",
       "      <th>normalizedGoogleRank</th>\n",
       "      <th>normalizedRating</th>\n",
       "    </tr>\n",
       "  </thead>\n",
       "  <tbody>\n",
       "    <tr>\n",
       "      <th>0</th>\n",
       "      <td>1</td>\n",
       "      <td>Rajkumar Hirani</td>\n",
       "      <td>3</td>\n",
       "      <td>440</td>\n",
       "      <td>10.00000</td>\n",
       "      <td>146000</td>\n",
       "      <td>2.07796</td>\n",
       "      <td>10.00000</td>\n",
       "    </tr>\n",
       "    <tr>\n",
       "      <th>1</th>\n",
       "      <td>2</td>\n",
       "      <td>Farah Khan</td>\n",
       "      <td>4</td>\n",
       "      <td>440</td>\n",
       "      <td>7.39474</td>\n",
       "      <td>1060000</td>\n",
       "      <td>8.88317</td>\n",
       "      <td>8.78473</td>\n",
       "    </tr>\n",
       "    <tr>\n",
       "      <th>2</th>\n",
       "      <td>3</td>\n",
       "      <td>Karan Johar</td>\n",
       "      <td>5</td>\n",
       "      <td>430</td>\n",
       "      <td>5.68947</td>\n",
       "      <td>1050000</td>\n",
       "      <td>8.80872</td>\n",
       "      <td>7.10460</td>\n",
       "    </tr>\n",
       "    <tr>\n",
       "      <th>3</th>\n",
       "      <td>4</td>\n",
       "      <td>Sajid Khan</td>\n",
       "      <td>4</td>\n",
       "      <td>350</td>\n",
       "      <td>5.79605</td>\n",
       "      <td>905000</td>\n",
       "      <td>7.72912</td>\n",
       "      <td>6.99780</td>\n",
       "    </tr>\n",
       "    <tr>\n",
       "      <th>4</th>\n",
       "      <td>5</td>\n",
       "      <td>Rohit Shetty</td>\n",
       "      <td>10</td>\n",
       "      <td>950</td>\n",
       "      <td>6.32895</td>\n",
       "      <td>437000</td>\n",
       "      <td>4.24461</td>\n",
       "      <td>6.83761</td>\n",
       "    </tr>\n",
       "    <tr>\n",
       "      <th>5</th>\n",
       "      <td>6</td>\n",
       "      <td>Kabir Khan</td>\n",
       "      <td>3</td>\n",
       "      <td>270</td>\n",
       "      <td>5.97368</td>\n",
       "      <td>666000</td>\n",
       "      <td>5.94964</td>\n",
       "      <td>6.82368</td>\n",
       "    </tr>\n",
       "    <tr>\n",
       "      <th>6</th>\n",
       "      <td>7</td>\n",
       "      <td>Anil Sharma</td>\n",
       "      <td>6</td>\n",
       "      <td>390</td>\n",
       "      <td>4.19737</td>\n",
       "      <td>1110000</td>\n",
       "      <td>9.25545</td>\n",
       "      <td>5.73447</td>\n",
       "    </tr>\n",
       "    <tr>\n",
       "      <th>7</th>\n",
       "      <td>8</td>\n",
       "      <td>Farhan Akhtar</td>\n",
       "      <td>4</td>\n",
       "      <td>290</td>\n",
       "      <td>4.73026</td>\n",
       "      <td>742000</td>\n",
       "      <td>6.51549</td>\n",
       "      <td>5.71973</td>\n",
       "    </tr>\n",
       "    <tr>\n",
       "      <th>8</th>\n",
       "      <td>9</td>\n",
       "      <td>Siddharth Anand</td>\n",
       "      <td>5</td>\n",
       "      <td>400</td>\n",
       "      <td>5.26316</td>\n",
       "      <td>312000</td>\n",
       "      <td>3.31392</td>\n",
       "      <td>5.61481</td>\n",
       "    </tr>\n",
       "    <tr>\n",
       "      <th>9</th>\n",
       "      <td>10</td>\n",
       "      <td>Anees Bazmee</td>\n",
       "      <td>7</td>\n",
       "      <td>600</td>\n",
       "      <td>5.66917</td>\n",
       "      <td>34400</td>\n",
       "      <td>1.24704</td>\n",
       "      <td>5.60762</td>\n",
       "    </tr>\n",
       "    <tr>\n",
       "      <th>10</th>\n",
       "      <td>11</td>\n",
       "      <td>Prabhudheva</td>\n",
       "      <td>4</td>\n",
       "      <td>330</td>\n",
       "      <td>5.44079</td>\n",
       "      <td>153000</td>\n",
       "      <td>2.13008</td>\n",
       "      <td>5.55705</td>\n",
       "    </tr>\n",
       "    <tr>\n",
       "      <th>11</th>\n",
       "      <td>12</td>\n",
       "      <td>Shaad Ali</td>\n",
       "      <td>3</td>\n",
       "      <td>240</td>\n",
       "      <td>5.26316</td>\n",
       "      <td>68900</td>\n",
       "      <td>1.50391</td>\n",
       "      <td>5.26123</td>\n",
       "    </tr>\n",
       "    <tr>\n",
       "      <th>12</th>\n",
       "      <td>13</td>\n",
       "      <td>Anurag Basu</td>\n",
       "      <td>8</td>\n",
       "      <td>510</td>\n",
       "      <td>4.10855</td>\n",
       "      <td>755000</td>\n",
       "      <td>6.61229</td>\n",
       "      <td>5.13139</td>\n",
       "    </tr>\n",
       "    <tr>\n",
       "      <th>13</th>\n",
       "      <td>14</td>\n",
       "      <td>Mohit Suri</td>\n",
       "      <td>8</td>\n",
       "      <td>560</td>\n",
       "      <td>4.55263</td>\n",
       "      <td>319000</td>\n",
       "      <td>3.36604</td>\n",
       "      <td>4.93099</td>\n",
       "    </tr>\n",
       "    <tr>\n",
       "      <th>14</th>\n",
       "      <td>15</td>\n",
       "      <td>Sanjay Leela Bhansali</td>\n",
       "      <td>5</td>\n",
       "      <td>300</td>\n",
       "      <td>3.84211</td>\n",
       "      <td>790000</td>\n",
       "      <td>6.87288</td>\n",
       "      <td>4.92205</td>\n",
       "    </tr>\n",
       "    <tr>\n",
       "      <th>15</th>\n",
       "      <td>16</td>\n",
       "      <td>Imtiaz Ali</td>\n",
       "      <td>5</td>\n",
       "      <td>270</td>\n",
       "      <td>3.41579</td>\n",
       "      <td>1050000</td>\n",
       "      <td>8.80872</td>\n",
       "      <td>4.88381</td>\n",
       "    </tr>\n",
       "    <tr>\n",
       "      <th>16</th>\n",
       "      <td>17</td>\n",
       "      <td>Mani Ratnam</td>\n",
       "      <td>3</td>\n",
       "      <td>170</td>\n",
       "      <td>3.60526</td>\n",
       "      <td>921000</td>\n",
       "      <td>7.84824</td>\n",
       "      <td>4.88125</td>\n",
       "    </tr>\n",
       "    <tr>\n",
       "      <th>17</th>\n",
       "      <td>18</td>\n",
       "      <td>David Dhawan</td>\n",
       "      <td>11</td>\n",
       "      <td>670</td>\n",
       "      <td>3.90670</td>\n",
       "      <td>622000</td>\n",
       "      <td>5.62203</td>\n",
       "      <td>4.74079</td>\n",
       "    </tr>\n",
       "    <tr>\n",
       "      <th>18</th>\n",
       "      <td>19</td>\n",
       "      <td>Aanand Rai</td>\n",
       "      <td>3</td>\n",
       "      <td>220</td>\n",
       "      <td>4.78947</td>\n",
       "      <td>20700</td>\n",
       "      <td>1.14504</td>\n",
       "      <td>4.72846</td>\n",
       "    </tr>\n",
       "    <tr>\n",
       "      <th>19</th>\n",
       "      <td>20</td>\n",
       "      <td>Ashwani Dhir</td>\n",
       "      <td>3</td>\n",
       "      <td>220</td>\n",
       "      <td>4.78947</td>\n",
       "      <td>5100</td>\n",
       "      <td>1.02889</td>\n",
       "      <td>4.70577</td>\n",
       "    </tr>\n",
       "    <tr>\n",
       "      <th>20</th>\n",
       "      <td>21</td>\n",
       "      <td>Raj Kumar Gupta</td>\n",
       "      <td>3</td>\n",
       "      <td>140</td>\n",
       "      <td>2.89474</td>\n",
       "      <td>1210000</td>\n",
       "      <td>10.00000</td>\n",
       "      <td>4.60759</td>\n",
       "    </tr>\n",
       "    <tr>\n",
       "      <th>21</th>\n",
       "      <td>22</td>\n",
       "      <td>Rakeysh Omprakash Mehra</td>\n",
       "      <td>4</td>\n",
       "      <td>280</td>\n",
       "      <td>4.55263</td>\n",
       "      <td>29900</td>\n",
       "      <td>1.21354</td>\n",
       "      <td>4.51051</td>\n",
       "    </tr>\n",
       "    <tr>\n",
       "      <th>22</th>\n",
       "      <td>23</td>\n",
       "      <td>Sanjay Gadhvi</td>\n",
       "      <td>6</td>\n",
       "      <td>410</td>\n",
       "      <td>4.43421</td>\n",
       "      <td>16600</td>\n",
       "      <td>1.11451</td>\n",
       "      <td>4.37550</td>\n",
       "    </tr>\n",
       "    <tr>\n",
       "      <th>23</th>\n",
       "      <td>24</td>\n",
       "      <td>Indra Kumar</td>\n",
       "      <td>7</td>\n",
       "      <td>420</td>\n",
       "      <td>3.84211</td>\n",
       "      <td>239000</td>\n",
       "      <td>2.77040</td>\n",
       "      <td>4.12064</td>\n",
       "    </tr>\n",
       "    <tr>\n",
       "      <th>24</th>\n",
       "      <td>25</td>\n",
       "      <td>Kunal Deshmukh</td>\n",
       "      <td>4</td>\n",
       "      <td>250</td>\n",
       "      <td>4.01974</td>\n",
       "      <td>107000</td>\n",
       "      <td>1.78759</td>\n",
       "      <td>4.10215</td>\n",
       "    </tr>\n",
       "    <tr>\n",
       "      <th>25</th>\n",
       "      <td>26</td>\n",
       "      <td>Kunal Kohli</td>\n",
       "      <td>5</td>\n",
       "      <td>310</td>\n",
       "      <td>3.98421</td>\n",
       "      <td>112000</td>\n",
       "      <td>1.82482</td>\n",
       "      <td>4.07473</td>\n",
       "    </tr>\n",
       "    <tr>\n",
       "      <th>26</th>\n",
       "      <td>27</td>\n",
       "      <td>Abhishek Kapoor</td>\n",
       "      <td>3</td>\n",
       "      <td>160</td>\n",
       "      <td>3.36842</td>\n",
       "      <td>500000</td>\n",
       "      <td>4.71368</td>\n",
       "      <td>4.03759</td>\n",
       "    </tr>\n",
       "    <tr>\n",
       "      <th>27</th>\n",
       "      <td>28</td>\n",
       "      <td>N. Chandra</td>\n",
       "      <td>3</td>\n",
       "      <td>120</td>\n",
       "      <td>2.42105</td>\n",
       "      <td>1010000</td>\n",
       "      <td>8.51090</td>\n",
       "      <td>3.85404</td>\n",
       "    </tr>\n",
       "    <tr>\n",
       "      <th>28</th>\n",
       "      <td>29</td>\n",
       "      <td>Priyadarshan</td>\n",
       "      <td>19</td>\n",
       "      <td>1050</td>\n",
       "      <td>3.50554</td>\n",
       "      <td>277000</td>\n",
       "      <td>3.05333</td>\n",
       "      <td>3.84718</td>\n",
       "    </tr>\n",
       "    <tr>\n",
       "      <th>29</th>\n",
       "      <td>30</td>\n",
       "      <td>Shoojit Sircar</td>\n",
       "      <td>3</td>\n",
       "      <td>180</td>\n",
       "      <td>3.84211</td>\n",
       "      <td>27800</td>\n",
       "      <td>1.19790</td>\n",
       "      <td>3.81346</td>\n",
       "    </tr>\n",
       "  </tbody>\n",
       "</table>\n",
       "</div>"
      ],
      "text/plain": [
       "    directorId             directorName  movieCount  ratingSum  \\\n",
       "0            1          Rajkumar Hirani           3        440   \n",
       "1            2               Farah Khan           4        440   \n",
       "2            3              Karan Johar           5        430   \n",
       "3            4               Sajid Khan           4        350   \n",
       "4            5             Rohit Shetty          10        950   \n",
       "5            6               Kabir Khan           3        270   \n",
       "6            7              Anil Sharma           6        390   \n",
       "7            8            Farhan Akhtar           4        290   \n",
       "8            9          Siddharth Anand           5        400   \n",
       "9           10             Anees Bazmee           7        600   \n",
       "10          11              Prabhudheva           4        330   \n",
       "11          12                Shaad Ali           3        240   \n",
       "12          13              Anurag Basu           8        510   \n",
       "13          14               Mohit Suri           8        560   \n",
       "14          15    Sanjay Leela Bhansali           5        300   \n",
       "15          16               Imtiaz Ali           5        270   \n",
       "16          17              Mani Ratnam           3        170   \n",
       "17          18             David Dhawan          11        670   \n",
       "18          19               Aanand Rai           3        220   \n",
       "19          20             Ashwani Dhir           3        220   \n",
       "20          21          Raj Kumar Gupta           3        140   \n",
       "21          22  Rakeysh Omprakash Mehra           4        280   \n",
       "22          23            Sanjay Gadhvi           6        410   \n",
       "23          24              Indra Kumar           7        420   \n",
       "24          25           Kunal Deshmukh           4        250   \n",
       "25          26              Kunal Kohli           5        310   \n",
       "26          27          Abhishek Kapoor           3        160   \n",
       "27          28               N. Chandra           3        120   \n",
       "28          29             Priyadarshan          19       1050   \n",
       "29          30           Shoojit Sircar           3        180   \n",
       "\n",
       "    normalizedMovieRank  googleHits  normalizedGoogleRank  normalizedRating  \n",
       "0              10.00000      146000               2.07796          10.00000  \n",
       "1               7.39474     1060000               8.88317           8.78473  \n",
       "2               5.68947     1050000               8.80872           7.10460  \n",
       "3               5.79605      905000               7.72912           6.99780  \n",
       "4               6.32895      437000               4.24461           6.83761  \n",
       "5               5.97368      666000               5.94964           6.82368  \n",
       "6               4.19737     1110000               9.25545           5.73447  \n",
       "7               4.73026      742000               6.51549           5.71973  \n",
       "8               5.26316      312000               3.31392           5.61481  \n",
       "9               5.66917       34400               1.24704           5.60762  \n",
       "10              5.44079      153000               2.13008           5.55705  \n",
       "11              5.26316       68900               1.50391           5.26123  \n",
       "12              4.10855      755000               6.61229           5.13139  \n",
       "13              4.55263      319000               3.36604           4.93099  \n",
       "14              3.84211      790000               6.87288           4.92205  \n",
       "15              3.41579     1050000               8.80872           4.88381  \n",
       "16              3.60526      921000               7.84824           4.88125  \n",
       "17              3.90670      622000               5.62203           4.74079  \n",
       "18              4.78947       20700               1.14504           4.72846  \n",
       "19              4.78947        5100               1.02889           4.70577  \n",
       "20              2.89474     1210000              10.00000           4.60759  \n",
       "21              4.55263       29900               1.21354           4.51051  \n",
       "22              4.43421       16600               1.11451           4.37550  \n",
       "23              3.84211      239000               2.77040           4.12064  \n",
       "24              4.01974      107000               1.78759           4.10215  \n",
       "25              3.98421      112000               1.82482           4.07473  \n",
       "26              3.36842      500000               4.71368           4.03759  \n",
       "27              2.42105     1010000               8.51090           3.85404  \n",
       "28              3.50554      277000               3.05333           3.84718  \n",
       "29              3.84211       27800               1.19790           3.81346  "
      ]
     },
     "execution_count": 54,
     "metadata": {},
     "output_type": "execute_result"
    }
   ],
   "source": [
    "df.head(30)"
   ]
  },
  {
   "cell_type": "code",
   "execution_count": 8,
   "id": "c2954657",
   "metadata": {},
   "outputs": [
    {
     "data": {
      "text/html": [
       "<div>\n",
       "<style scoped>\n",
       "    .dataframe tbody tr th:only-of-type {\n",
       "        vertical-align: middle;\n",
       "    }\n",
       "\n",
       "    .dataframe tbody tr th {\n",
       "        vertical-align: top;\n",
       "    }\n",
       "\n",
       "    .dataframe thead th {\n",
       "        text-align: right;\n",
       "    }\n",
       "</style>\n",
       "<table border=\"1\" class=\"dataframe\">\n",
       "  <thead>\n",
       "    <tr style=\"text-align: right;\">\n",
       "      <th></th>\n",
       "      <th>directorId</th>\n",
       "      <th>directorName</th>\n",
       "      <th>movieCount</th>\n",
       "      <th>ratingSum</th>\n",
       "      <th>normalizedMovieRank</th>\n",
       "      <th>googleHits</th>\n",
       "      <th>normalizedGoogleRank</th>\n",
       "      <th>normalizedRating</th>\n",
       "    </tr>\n",
       "  </thead>\n",
       "  <tbody>\n",
       "    <tr>\n",
       "      <th>113</th>\n",
       "      <td>114</td>\n",
       "      <td>Shyam Ramsay</td>\n",
       "      <td>3</td>\n",
       "      <td>60</td>\n",
       "      <td>1.0</td>\n",
       "      <td>9930</td>\n",
       "      <td>1.06485</td>\n",
       "      <td>1.01149</td>\n",
       "    </tr>\n",
       "    <tr>\n",
       "      <th>114</th>\n",
       "      <td>115</td>\n",
       "      <td>Jag Mundhra</td>\n",
       "      <td>3</td>\n",
       "      <td>60</td>\n",
       "      <td>1.0</td>\n",
       "      <td>6710</td>\n",
       "      <td>1.04088</td>\n",
       "      <td>1.00681</td>\n",
       "    </tr>\n",
       "    <tr>\n",
       "      <th>115</th>\n",
       "      <td>116</td>\n",
       "      <td>Kalpana Lajmi</td>\n",
       "      <td>3</td>\n",
       "      <td>60</td>\n",
       "      <td>1.0</td>\n",
       "      <td>4380</td>\n",
       "      <td>1.02353</td>\n",
       "      <td>1.00342</td>\n",
       "    </tr>\n",
       "    <tr>\n",
       "      <th>116</th>\n",
       "      <td>117</td>\n",
       "      <td>Ajay Chandhok</td>\n",
       "      <td>4</td>\n",
       "      <td>80</td>\n",
       "      <td>1.0</td>\n",
       "      <td>2420</td>\n",
       "      <td>1.00893</td>\n",
       "      <td>1.00057</td>\n",
       "    </tr>\n",
       "    <tr>\n",
       "      <th>117</th>\n",
       "      <td>118</td>\n",
       "      <td>Puneet Sira</td>\n",
       "      <td>3</td>\n",
       "      <td>60</td>\n",
       "      <td>1.0</td>\n",
       "      <td>2030</td>\n",
       "      <td>1.00603</td>\n",
       "      <td>1.00000</td>\n",
       "    </tr>\n",
       "  </tbody>\n",
       "</table>\n",
       "</div>"
      ],
      "text/plain": [
       "     directorId   directorName  movieCount  ratingSum  normalizedMovieRank  \\\n",
       "113         114   Shyam Ramsay           3         60                  1.0   \n",
       "114         115    Jag Mundhra           3         60                  1.0   \n",
       "115         116  Kalpana Lajmi           3         60                  1.0   \n",
       "116         117  Ajay Chandhok           4         80                  1.0   \n",
       "117         118    Puneet Sira           3         60                  1.0   \n",
       "\n",
       "     googleHits  normalizedGoogleRank  normalizedRating  \n",
       "113        9930               1.06485           1.01149  \n",
       "114        6710               1.04088           1.00681  \n",
       "115        4380               1.02353           1.00342  \n",
       "116        2420               1.00893           1.00057  \n",
       "117        2030               1.00603           1.00000  "
      ]
     },
     "execution_count": 8,
     "metadata": {},
     "output_type": "execute_result"
    }
   ],
   "source": [
    "df.tail()"
   ]
  },
  {
   "cell_type": "code",
   "execution_count": 3,
   "id": "2f6b5dcd",
   "metadata": {},
   "outputs": [
    {
     "data": {
      "text/html": [
       "<div>\n",
       "<style scoped>\n",
       "    .dataframe tbody tr th:only-of-type {\n",
       "        vertical-align: middle;\n",
       "    }\n",
       "\n",
       "    .dataframe tbody tr th {\n",
       "        vertical-align: top;\n",
       "    }\n",
       "\n",
       "    .dataframe thead th {\n",
       "        text-align: right;\n",
       "    }\n",
       "</style>\n",
       "<table border=\"1\" class=\"dataframe\">\n",
       "  <thead>\n",
       "    <tr style=\"text-align: right;\">\n",
       "      <th></th>\n",
       "      <th>directorId</th>\n",
       "      <th>movieCount</th>\n",
       "      <th>ratingSum</th>\n",
       "      <th>normalizedMovieRank</th>\n",
       "      <th>googleHits</th>\n",
       "      <th>normalizedGoogleRank</th>\n",
       "      <th>normalizedRating</th>\n",
       "    </tr>\n",
       "  </thead>\n",
       "  <tbody>\n",
       "    <tr>\n",
       "      <th>count</th>\n",
       "      <td>118.000000</td>\n",
       "      <td>118.000000</td>\n",
       "      <td>118.00000</td>\n",
       "      <td>118.000000</td>\n",
       "      <td>1.180000e+02</td>\n",
       "      <td>118.000000</td>\n",
       "      <td>118.000000</td>\n",
       "    </tr>\n",
       "    <tr>\n",
       "      <th>mean</th>\n",
       "      <td>59.500000</td>\n",
       "      <td>4.957627</td>\n",
       "      <td>220.00000</td>\n",
       "      <td>2.601887</td>\n",
       "      <td>2.176836e+05</td>\n",
       "      <td>2.594890</td>\n",
       "      <td>2.874995</td>\n",
       "    </tr>\n",
       "    <tr>\n",
       "      <th>std</th>\n",
       "      <td>34.207699</td>\n",
       "      <td>2.799249</td>\n",
       "      <td>182.05381</td>\n",
       "      <td>1.588392</td>\n",
       "      <td>3.322251e+05</td>\n",
       "      <td>2.487982</td>\n",
       "      <td>1.779069</td>\n",
       "    </tr>\n",
       "    <tr>\n",
       "      <th>min</th>\n",
       "      <td>1.000000</td>\n",
       "      <td>3.000000</td>\n",
       "      <td>60.00000</td>\n",
       "      <td>1.000000</td>\n",
       "      <td>0.000000e+00</td>\n",
       "      <td>0.000000</td>\n",
       "      <td>1.000000</td>\n",
       "    </tr>\n",
       "    <tr>\n",
       "      <th>25%</th>\n",
       "      <td>30.250000</td>\n",
       "      <td>3.000000</td>\n",
       "      <td>92.50000</td>\n",
       "      <td>1.397560</td>\n",
       "      <td>1.117500e+04</td>\n",
       "      <td>1.074120</td>\n",
       "      <td>1.452045</td>\n",
       "    </tr>\n",
       "    <tr>\n",
       "      <th>50%</th>\n",
       "      <td>59.500000</td>\n",
       "      <td>4.000000</td>\n",
       "      <td>145.00000</td>\n",
       "      <td>2.350000</td>\n",
       "      <td>4.855000e+04</td>\n",
       "      <td>1.352400</td>\n",
       "      <td>2.483650</td>\n",
       "    </tr>\n",
       "    <tr>\n",
       "      <th>75%</th>\n",
       "      <td>88.750000</td>\n",
       "      <td>6.000000</td>\n",
       "      <td>270.00000</td>\n",
       "      <td>3.403948</td>\n",
       "      <td>2.687500e+05</td>\n",
       "      <td>2.991902</td>\n",
       "      <td>3.797115</td>\n",
       "    </tr>\n",
       "    <tr>\n",
       "      <th>max</th>\n",
       "      <td>118.000000</td>\n",
       "      <td>19.000000</td>\n",
       "      <td>1050.00000</td>\n",
       "      <td>10.000000</td>\n",
       "      <td>1.210000e+06</td>\n",
       "      <td>10.000000</td>\n",
       "      <td>10.000000</td>\n",
       "    </tr>\n",
       "  </tbody>\n",
       "</table>\n",
       "</div>"
      ],
      "text/plain": [
       "       directorId  movieCount   ratingSum  normalizedMovieRank    googleHits  \\\n",
       "count  118.000000  118.000000   118.00000           118.000000  1.180000e+02   \n",
       "mean    59.500000    4.957627   220.00000             2.601887  2.176836e+05   \n",
       "std     34.207699    2.799249   182.05381             1.588392  3.322251e+05   \n",
       "min      1.000000    3.000000    60.00000             1.000000  0.000000e+00   \n",
       "25%     30.250000    3.000000    92.50000             1.397560  1.117500e+04   \n",
       "50%     59.500000    4.000000   145.00000             2.350000  4.855000e+04   \n",
       "75%     88.750000    6.000000   270.00000             3.403948  2.687500e+05   \n",
       "max    118.000000   19.000000  1050.00000            10.000000  1.210000e+06   \n",
       "\n",
       "       normalizedGoogleRank  normalizedRating  \n",
       "count            118.000000        118.000000  \n",
       "mean               2.594890          2.874995  \n",
       "std                2.487982          1.779069  \n",
       "min                0.000000          1.000000  \n",
       "25%                1.074120          1.452045  \n",
       "50%                1.352400          2.483650  \n",
       "75%                2.991902          3.797115  \n",
       "max               10.000000         10.000000  "
      ]
     },
     "execution_count": 3,
     "metadata": {},
     "output_type": "execute_result"
    }
   ],
   "source": [
    "df.describe()"
   ]
  },
  {
   "cell_type": "code",
   "execution_count": 4,
   "id": "9100dc3b",
   "metadata": {},
   "outputs": [
    {
     "name": "stdout",
     "output_type": "stream",
     "text": [
      "<class 'pandas.core.frame.DataFrame'>\n",
      "RangeIndex: 118 entries, 0 to 117\n",
      "Data columns (total 8 columns):\n",
      " #   Column                Non-Null Count  Dtype  \n",
      "---  ------                --------------  -----  \n",
      " 0   directorId            118 non-null    int64  \n",
      " 1   directorName          117 non-null    object \n",
      " 2   movieCount            118 non-null    int64  \n",
      " 3   ratingSum             118 non-null    int64  \n",
      " 4   normalizedMovieRank   118 non-null    float64\n",
      " 5   googleHits            118 non-null    int64  \n",
      " 6   normalizedGoogleRank  118 non-null    float64\n",
      " 7   normalizedRating      118 non-null    float64\n",
      "dtypes: float64(3), int64(4), object(1)\n",
      "memory usage: 7.0+ KB\n"
     ]
    }
   ],
   "source": [
    "df.info()"
   ]
  },
  {
   "cell_type": "code",
   "execution_count": 6,
   "id": "98ad53ed",
   "metadata": {},
   "outputs": [
    {
     "data": {
      "text/plain": [
       "directorId              0\n",
       "directorName            1\n",
       "movieCount              0\n",
       "ratingSum               0\n",
       "normalizedMovieRank     0\n",
       "googleHits              0\n",
       "normalizedGoogleRank    0\n",
       "normalizedRating        0\n",
       "dtype: int64"
      ]
     },
     "execution_count": 6,
     "metadata": {},
     "output_type": "execute_result"
    }
   ],
   "source": [
    "df.isnull().sum()"
   ]
  },
  {
   "cell_type": "code",
   "execution_count": 9,
   "id": "afb019e1",
   "metadata": {},
   "outputs": [
    {
     "data": {
      "text/plain": [
       "<matplotlib.collections.PathCollection at 0xbeb41d8>"
      ]
     },
     "execution_count": 9,
     "metadata": {},
     "output_type": "execute_result"
    },
    {
     "data": {
      "image/png": "[encoded data removed]",
      "text/plain": [
       "<Figure size 432x288 with 1 Axes>"
      ]
     },
     "metadata": {
      "needs_background": "light"
     },
     "output_type": "display_data"
    }
   ],
   "source": [
    "plt.scatter(x=df[\"movieCount\"],y=df[\"ratingSum\"])"
   ]
  },
  {
   "cell_type": "markdown",
   "id": "f43e37ee",
   "metadata": {},
   "source": [
    "### Director With Movie Count Sajid Khan"
   ]
  },
  {
   "cell_type": "code",
   "execution_count": 37,
   "id": "c3bc60e8",
   "metadata": {},
   "outputs": [
    {
     "data": {
      "text/plain": [
       "movieCount\n",
       "3     47\n",
       "4     20\n",
       "5     19\n",
       "6     11\n",
       "7      5\n",
       "8      5\n",
       "9      2\n",
       "10     4\n",
       "11     1\n",
       "16     1\n",
       "17     1\n",
       "19     1\n",
       "Name: directorName, dtype: int64"
      ]
     },
     "execution_count": 37,
     "metadata": {},
     "output_type": "execute_result"
    }
   ],
   "source": [
    "df.groupby(\"movieCount\")[\"directorName\"].count()"
   ]
  },
  {
   "cell_type": "code",
   "execution_count": 44,
   "id": "3dd396a2",
   "metadata": {},
   "outputs": [],
   "source": [
    "values=(40,20,19,11,5,5,2,4,1,1,1,1)"
   ]
  },
  {
   "cell_type": "code",
   "execution_count": 47,
   "id": "d64d4e02",
   "metadata": {},
   "outputs": [],
   "source": [
    "# labels=(3,4,5,6,7,8,9,10,11,16,17,19)"
   ]
  },
  {
   "cell_type": "code",
   "execution_count": 61,
   "id": "27d3ec97",
   "metadata": {},
   "outputs": [],
   "source": [
    "labels=(\"Sajid Khan\",\"Rohit Shetty\",\"Kabir Khan\",\"Anil Sharma\",\"Farhan Akhtar\",\"Siddharth Anand\",\"Anees Bazmee\",\"Prabhudheva\",\"Shaad Ali\",\"Mani Ratnam\",\"David Dhawan\",\"Ashwani Dhir\")"
   ]
  },
  {
   "cell_type": "code",
   "execution_count": 62,
   "id": "b77fbab6",
   "metadata": {},
   "outputs": [
    {
     "data": {
      "image/png": "[encoded data removed]",
      "text/plain": [
       "<Figure size 432x288 with 1 Axes>"
      ]
     },
     "metadata": {},
     "output_type": "display_data"
    }
   ],
   "source": [
    "plt.pie(values,labels=labels)\n",
    "plt.show()"
   ]
  },
  {
   "cell_type": "code",
   "execution_count": null,
   "id": "23959d7f",
   "metadata": {},
   "outputs": [],
   "source": []
  },
  {
   "cell_type": "code",
   "execution_count": null,
   "id": "dcc4d685",
   "metadata": {},
   "outputs": [],
   "source": []
  },
  {
   "cell_type": "code",
   "execution_count": null,
   "id": "73c19b77",
   "metadata": {},
   "outputs": [],
   "source": []
  },
  {
   "cell_type": "code",
   "execution_count": 52,
   "id": "d58095f4",
   "metadata": {},
   "outputs": [
    {
     "data": {
      "text/plain": [
       "<matplotlib.collections.PathCollection at 0x156b7bf8>"
      ]
     },
     "execution_count": 52,
     "metadata": {},
     "output_type": "execute_result"
    },
    {
     "data": {
      "image/png": "[encoded data removed]",
      "text/plain": [
       "<Figure size 432x288 with 1 Axes>"
      ]
     },
     "metadata": {
      "needs_background": "light"
     },
     "output_type": "display_data"
    }
   ],
   "source": [
    "plt.scatter(x=df[\"ratingSum\"],y=df[\"movieCount\"])"
   ]
  },
  {
   "cell_type": "markdown",
   "id": "49cebc26",
   "metadata": {},
   "source": [
    "## Outliers\n"
   ]
  },
  {
   "cell_type": "code",
   "execution_count": 6,
   "id": "87f23317",
   "metadata": {},
   "outputs": [
    {
     "data": {
      "text/plain": [
       "{'whiskers': [<matplotlib.lines.Line2D at 0xb3aafe8>,\n",
       "  <matplotlib.lines.Line2D at 0xb3c71a8>],\n",
       " 'caps': [<matplotlib.lines.Line2D at 0xb3c7370>,\n",
       "  <matplotlib.lines.Line2D at 0xb3c7538>],\n",
       " 'boxes': [<matplotlib.lines.Line2D at 0xb3aadd8>],\n",
       " 'medians': [<matplotlib.lines.Line2D at 0xb3c7700>],\n",
       " 'fliers': [<matplotlib.lines.Line2D at 0xb3c78c8>],\n",
       " 'means': []}"
      ]
     },
     "execution_count": 6,
     "metadata": {},
     "output_type": "execute_result"
    },
    {
     "data": {
      "image/png": "[encoded data removed]",
      "text/plain": [
       "<Figure size 432x288 with 1 Axes>"
      ]
     },
     "metadata": {
      "needs_background": "light"
     },
     "output_type": "display_data"
    }
   ],
   "source": [
    "plt.boxplot(df[\"movieCount\"])"
   ]
  },
  {
   "cell_type": "markdown",
   "id": "9b17690b",
   "metadata": {},
   "source": [
    "IQR Of column movieCount IQR = Q3 – Q1."
   ]
  },
  {
   "cell_type": "code",
   "execution_count": 7,
   "id": "77c90273",
   "metadata": {},
   "outputs": [
    {
     "data": {
      "text/plain": [
       "3.0"
      ]
     },
     "execution_count": 7,
     "metadata": {},
     "output_type": "execute_result"
    }
   ],
   "source": [
    "iqrMovieCount=df[\"movieCount\"].quantile(0.75)-df[\"movieCount\"].quantile(0.25)\n",
    "iqrMovieCount"
   ]
  },
  {
   "cell_type": "raw",
   "id": "0ab00330",
   "metadata": {},
   "source": [
    "Lower bound  and Upper Bound Of column movieCount\n",
    "Lower Limit = Q1–1.5*IQR\n",
    "Upper Limit = Q3+1.5*IQR"
   ]
  },
  {
   "cell_type": "code",
   "execution_count": 8,
   "id": "39d74b61",
   "metadata": {},
   "outputs": [
    {
     "data": {
      "text/plain": [
       "-1.5"
      ]
     },
     "execution_count": 8,
     "metadata": {},
     "output_type": "execute_result"
    }
   ],
   "source": [
    "LowerLimitmovieCount=df[\"movieCount\"].quantile(0.25)-1.5*iqrMovieCount\n",
    "LowerLimitmovieCount"
   ]
  },
  {
   "cell_type": "code",
   "execution_count": 9,
   "id": "da378c4e",
   "metadata": {},
   "outputs": [
    {
     "data": {
      "text/plain": [
       "10.5"
      ]
     },
     "execution_count": 9,
     "metadata": {},
     "output_type": "execute_result"
    }
   ],
   "source": [
    "UpperLimitmovieCount=df[\"movieCount\"].quantile(0.75)+1.5*iqrMovieCount\n",
    "UpperLimitmovieCount"
   ]
  },
  {
   "cell_type": "code",
   "execution_count": 10,
   "id": "73b02e70",
   "metadata": {},
   "outputs": [
    {
     "data": {
      "text/html": [
       "<div>\n",
       "<style scoped>\n",
       "    .dataframe tbody tr th:only-of-type {\n",
       "        vertical-align: middle;\n",
       "    }\n",
       "\n",
       "    .dataframe tbody tr th {\n",
       "        vertical-align: top;\n",
       "    }\n",
       "\n",
       "    .dataframe thead th {\n",
       "        text-align: right;\n",
       "    }\n",
       "</style>\n",
       "<table border=\"1\" class=\"dataframe\">\n",
       "  <thead>\n",
       "    <tr style=\"text-align: right;\">\n",
       "      <th></th>\n",
       "      <th>directorId</th>\n",
       "      <th>directorName</th>\n",
       "      <th>movieCount</th>\n",
       "      <th>ratingSum</th>\n",
       "      <th>normalizedMovieRank</th>\n",
       "      <th>googleHits</th>\n",
       "      <th>normalizedGoogleRank</th>\n",
       "      <th>normalizedRating</th>\n",
       "    </tr>\n",
       "  </thead>\n",
       "  <tbody>\n",
       "    <tr>\n",
       "      <th>17</th>\n",
       "      <td>18</td>\n",
       "      <td>David Dhawan</td>\n",
       "      <td>11</td>\n",
       "      <td>670</td>\n",
       "      <td>3.90670</td>\n",
       "      <td>622000</td>\n",
       "      <td>5.62203</td>\n",
       "      <td>4.74079</td>\n",
       "    </tr>\n",
       "    <tr>\n",
       "      <th>28</th>\n",
       "      <td>29</td>\n",
       "      <td>Priyadarshan</td>\n",
       "      <td>19</td>\n",
       "      <td>1050</td>\n",
       "      <td>3.50554</td>\n",
       "      <td>277000</td>\n",
       "      <td>3.05333</td>\n",
       "      <td>3.84718</td>\n",
       "    </tr>\n",
       "    <tr>\n",
       "      <th>31</th>\n",
       "      <td>32</td>\n",
       "      <td>Ram Gopal Varma</td>\n",
       "      <td>17</td>\n",
       "      <td>680</td>\n",
       "      <td>2.42105</td>\n",
       "      <td>934000</td>\n",
       "      <td>7.94504</td>\n",
       "      <td>3.74350</td>\n",
       "    </tr>\n",
       "    <tr>\n",
       "      <th>46</th>\n",
       "      <td>47</td>\n",
       "      <td>Vikram Bhatt</td>\n",
       "      <td>16</td>\n",
       "      <td>640</td>\n",
       "      <td>2.42105</td>\n",
       "      <td>356000</td>\n",
       "      <td>3.64152</td>\n",
       "      <td>2.90282</td>\n",
       "    </tr>\n",
       "  </tbody>\n",
       "</table>\n",
       "</div>"
      ],
      "text/plain": [
       "    directorId     directorName  movieCount  ratingSum  normalizedMovieRank  \\\n",
       "17          18     David Dhawan          11        670              3.90670   \n",
       "28          29     Priyadarshan          19       1050              3.50554   \n",
       "31          32  Ram Gopal Varma          17        680              2.42105   \n",
       "46          47     Vikram Bhatt          16        640              2.42105   \n",
       "\n",
       "    googleHits  normalizedGoogleRank  normalizedRating  \n",
       "17      622000               5.62203           4.74079  \n",
       "28      277000               3.05333           3.84718  \n",
       "31      934000               7.94504           3.74350  \n",
       "46      356000               3.64152           2.90282  "
      ]
     },
     "execution_count": 10,
     "metadata": {},
     "output_type": "execute_result"
    }
   ],
   "source": [
    "df[df[\"movieCount\"]>UpperLimitmovieCount]"
   ]
  },
  {
   "cell_type": "code",
   "execution_count": 11,
   "id": "beab121d",
   "metadata": {},
   "outputs": [
    {
     "data": {
      "text/html": [
       "<div>\n",
       "<style scoped>\n",
       "    .dataframe tbody tr th:only-of-type {\n",
       "        vertical-align: middle;\n",
       "    }\n",
       "\n",
       "    .dataframe tbody tr th {\n",
       "        vertical-align: top;\n",
       "    }\n",
       "\n",
       "    .dataframe thead th {\n",
       "        text-align: right;\n",
       "    }\n",
       "</style>\n",
       "<table border=\"1\" class=\"dataframe\">\n",
       "  <thead>\n",
       "    <tr style=\"text-align: right;\">\n",
       "      <th></th>\n",
       "      <th>directorId</th>\n",
       "      <th>directorName</th>\n",
       "      <th>movieCount</th>\n",
       "      <th>ratingSum</th>\n",
       "      <th>normalizedMovieRank</th>\n",
       "      <th>googleHits</th>\n",
       "      <th>normalizedGoogleRank</th>\n",
       "      <th>normalizedRating</th>\n",
       "    </tr>\n",
       "  </thead>\n",
       "  <tbody>\n",
       "  </tbody>\n",
       "</table>\n",
       "</div>"
      ],
      "text/plain": [
       "Empty DataFrame\n",
       "Columns: [directorId, directorName, movieCount, ratingSum, normalizedMovieRank, googleHits, normalizedGoogleRank, normalizedRating]\n",
       "Index: []"
      ]
     },
     "execution_count": 11,
     "metadata": {},
     "output_type": "execute_result"
    }
   ],
   "source": [
    "df[df[\"movieCount\"]<LowerLimitmovieCount]"
   ]
  },
  {
   "cell_type": "code",
   "execution_count": 12,
   "id": "e9ea5fd4",
   "metadata": {},
   "outputs": [
    {
     "data": {
      "text/html": [
       "<div>\n",
       "<style scoped>\n",
       "    .dataframe tbody tr th:only-of-type {\n",
       "        vertical-align: middle;\n",
       "    }\n",
       "\n",
       "    .dataframe tbody tr th {\n",
       "        vertical-align: top;\n",
       "    }\n",
       "\n",
       "    .dataframe thead th {\n",
       "        text-align: right;\n",
       "    }\n",
       "</style>\n",
       "<table border=\"1\" class=\"dataframe\">\n",
       "  <thead>\n",
       "    <tr style=\"text-align: right;\">\n",
       "      <th></th>\n",
       "      <th>directorId</th>\n",
       "      <th>directorName</th>\n",
       "      <th>movieCount</th>\n",
       "      <th>ratingSum</th>\n",
       "      <th>normalizedMovieRank</th>\n",
       "      <th>googleHits</th>\n",
       "      <th>normalizedGoogleRank</th>\n",
       "      <th>normalizedRating</th>\n",
       "    </tr>\n",
       "  </thead>\n",
       "  <tbody>\n",
       "    <tr>\n",
       "      <th>0</th>\n",
       "      <td>1</td>\n",
       "      <td>Rajkumar Hirani</td>\n",
       "      <td>3</td>\n",
       "      <td>440</td>\n",
       "      <td>10.00000</td>\n",
       "      <td>146000</td>\n",
       "      <td>2.07796</td>\n",
       "      <td>10.00000</td>\n",
       "    </tr>\n",
       "    <tr>\n",
       "      <th>1</th>\n",
       "      <td>2</td>\n",
       "      <td>Farah Khan</td>\n",
       "      <td>4</td>\n",
       "      <td>440</td>\n",
       "      <td>7.39474</td>\n",
       "      <td>1060000</td>\n",
       "      <td>8.88317</td>\n",
       "      <td>8.78473</td>\n",
       "    </tr>\n",
       "    <tr>\n",
       "      <th>2</th>\n",
       "      <td>3</td>\n",
       "      <td>Karan Johar</td>\n",
       "      <td>5</td>\n",
       "      <td>430</td>\n",
       "      <td>5.68947</td>\n",
       "      <td>1050000</td>\n",
       "      <td>8.80872</td>\n",
       "      <td>7.10460</td>\n",
       "    </tr>\n",
       "    <tr>\n",
       "      <th>3</th>\n",
       "      <td>4</td>\n",
       "      <td>Sajid Khan</td>\n",
       "      <td>4</td>\n",
       "      <td>350</td>\n",
       "      <td>5.79605</td>\n",
       "      <td>905000</td>\n",
       "      <td>7.72912</td>\n",
       "      <td>6.99780</td>\n",
       "    </tr>\n",
       "    <tr>\n",
       "      <th>4</th>\n",
       "      <td>5</td>\n",
       "      <td>Rohit Shetty</td>\n",
       "      <td>10</td>\n",
       "      <td>950</td>\n",
       "      <td>6.32895</td>\n",
       "      <td>437000</td>\n",
       "      <td>4.24461</td>\n",
       "      <td>6.83761</td>\n",
       "    </tr>\n",
       "  </tbody>\n",
       "</table>\n",
       "</div>"
      ],
      "text/plain": [
       "   directorId     directorName  movieCount  ratingSum  normalizedMovieRank  \\\n",
       "0           1  Rajkumar Hirani           3        440             10.00000   \n",
       "1           2       Farah Khan           4        440              7.39474   \n",
       "2           3      Karan Johar           5        430              5.68947   \n",
       "3           4       Sajid Khan           4        350              5.79605   \n",
       "4           5     Rohit Shetty          10        950              6.32895   \n",
       "\n",
       "   googleHits  normalizedGoogleRank  normalizedRating  \n",
       "0      146000               2.07796          10.00000  \n",
       "1     1060000               8.88317           8.78473  \n",
       "2     1050000               8.80872           7.10460  \n",
       "3      905000               7.72912           6.99780  \n",
       "4      437000               4.24461           6.83761  "
      ]
     },
     "execution_count": 12,
     "metadata": {},
     "output_type": "execute_result"
    }
   ],
   "source": [
    "Ndf=df[df[\"movieCount\"]<UpperLimitmovieCount]\n",
    "Ndf.head()"
   ]
  },
  {
   "cell_type": "code",
   "execution_count": 13,
   "id": "9e368eff",
   "metadata": {},
   "outputs": [
    {
     "data": {
      "text/plain": [
       "{'whiskers': [<matplotlib.lines.Line2D at 0xd42beb0>,\n",
       "  <matplotlib.lines.Line2D at 0xd43a0a0>],\n",
       " 'caps': [<matplotlib.lines.Line2D at 0xd43a268>,\n",
       "  <matplotlib.lines.Line2D at 0xd43a430>],\n",
       " 'boxes': [<matplotlib.lines.Line2D at 0xd42bce8>],\n",
       " 'medians': [<matplotlib.lines.Line2D at 0xd43a5f8>],\n",
       " 'fliers': [<matplotlib.lines.Line2D at 0xd43a7c0>],\n",
       " 'means': []}"
      ]
     },
     "execution_count": 13,
     "metadata": {},
     "output_type": "execute_result"
    },
    {
     "data": {
      "image/png": "[encoded data removed]",
      "text/plain": [
       "<Figure size 432x288 with 1 Axes>"
      ]
     },
     "metadata": {
      "needs_background": "light"
     },
     "output_type": "display_data"
    }
   ],
   "source": [
    "plt.boxplot(Ndf[\"movieCount\"])"
   ]
  },
  {
   "cell_type": "code",
   "execution_count": null,
   "id": "65f4e62c",
   "metadata": {},
   "outputs": [],
   "source": []
  }
 ],
 "metadata": {
  "kernelspec": {
   "display_name": "Python 3 (ipykernel)",
   "language": "python",
   "name": "python3"
  },
  "language_info": {
   "codemirror_mode": {
    "name": "ipython",
    "version": 3
   },
   "file_extension": ".py",
   "mimetype": "text/x-python",
   "name": "python",
   "nbconvert_exporter": "python",
   "pygments_lexer": "ipython3",
   "version": "3.9.6"
  }
 },
 "nbformat": 4,
 "nbformat_minor": 5
}
